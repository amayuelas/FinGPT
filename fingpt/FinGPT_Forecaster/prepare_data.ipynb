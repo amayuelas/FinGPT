{
 "cells": [
  {
   "cell_type": "code",
   "execution_count": 1,
   "id": "5d05a3a3",
   "metadata": {},
   "outputs": [],
   "source": [
    "import os \n",
    "import json\n",
    "import pandas as pd\n",
    "from tqdm import tqdm\n",
    "\n",
    "from data import  prepare_data_for_symbol, query_gpt4, create_dataset\n",
    "from prompt import get_all_prompts\n",
    "from data_infererence_fetch import get_curday, fetch_all_data, get_all_prompts_online\n",
    "from indices import *"
   ]
  },
  {
   "cell_type": "code",
   "execution_count": 6,
   "id": "ace9fdb4",
   "metadata": {},
   "outputs": [],
   "source": [
    "# START_DATE = \"2022-12-31\"\n",
    "# END_DATE = \"2023-05-31\"\n",
    "start_date = \"2023-01-31\"\n",
    "end_date = \"2023-12-31\"\n",
    "index_name = \"crypto\"\n",
    "min_past_weeks = 1\n",
    "max_past_weeks = 4\n",
    "train_ratio = 0.8\n",
    "\n",
    "data_dir = f\"./data/{index_name}_{start_date}_{end_date}\"\n",
    "os.makedirs(data_dir, exist_ok=True)"
   ]
  },
  {
   "cell_type": "markdown",
   "id": "2fce2503",
   "metadata": {},
   "source": [
    "# Raw Financial Data Acquisition"
   ]
  },
  {
   "cell_type": "code",
   "execution_count": 14,
   "id": "43d65960",
   "metadata": {
    "scrolled": true
   },
   "outputs": [
    {
     "name": "stderr",
     "output_type": "stream",
     "text": [
      "  0%|          | 0/2 [00:00<?, ?it/s]"
     ]
    },
    {
     "name": "stdout",
     "output_type": "stream",
     "text": [
      "Processing DOGE-USD\n"
     ]
    },
    {
     "name": "stderr",
     "output_type": "stream",
     "text": [
      "[*********************100%%**********************]  1 of 1 completed\n",
      "[*********************100%%**********************]  1 of 1 completed\n"
     ]
    },
    {
     "name": "stdout",
     "output_type": "stream",
     "text": [
      "Processing TRX-USD\n"
     ]
    },
    {
     "name": "stderr",
     "output_type": "stream",
     "text": [
      "100%|██████████| 2/2 [01:41<00:00, 50.91s/it]\n"
     ]
    }
   ],
   "source": [
    "with_basics = True\n",
    "if index_name == \"dow\":\n",
    "    index = DOW_30\n",
    "elif index_name == \"euro\":\n",
    "    index = EURO_STOXX_50\n",
    "elif index_name == \"crypto\":\n",
    "    index = CRYPTO\n",
    "    with_basics = False\n",
    "else:\n",
    "    raise NotImplementedError\n",
    "\n",
    "for symbol in tqdm(index):\n",
    "    print(f\"Processing {symbol}\")\n",
    "    prepare_data_for_symbol(symbol, data_dir, start_date, end_date, with_basics)"
   ]
  },
  {
   "cell_type": "markdown",
   "id": "af655d8b",
   "metadata": {},
   "source": [
    "# Generate Prompts from Financial Data"
   ]
  },
  {
   "cell_type": "code",
   "execution_count": 16,
   "id": "92208b72",
   "metadata": {},
   "outputs": [
    {
     "ename": "KeyError",
     "evalue": "'name'",
     "output_type": "error",
     "traceback": [
      "\u001b[0;31m---------------------------------------------------------------------------\u001b[0m",
      "\u001b[0;31mKeyError\u001b[0m                                  Traceback (most recent call last)",
      "Cell \u001b[0;32mIn[16], line 3\u001b[0m\n\u001b[1;32m      1\u001b[0m \u001b[39m# prompts = get_all_prompts(\"AAPL\", 1, 3)\u001b[39;00m\n\u001b[1;32m      2\u001b[0m \u001b[39m# prompts = get_all_prompts(\"MSFT\", 1, 3, False)\u001b[39;00m\n\u001b[0;32m----> 3\u001b[0m prompts \u001b[39m=\u001b[39m get_all_prompts(\u001b[39m\"\u001b[39;49m\u001b[39mBTC-USD\u001b[39;49m\u001b[39m\"\u001b[39;49m, data_dir, start_date, end_date, min_past_weeks, max_past_weeks, with_basics)\n\u001b[1;32m      5\u001b[0m \u001b[39mprint\u001b[39m(prompts[\u001b[39m0\u001b[39m])\n",
      "File \u001b[0;32m/data5/aamayuelasfernandez/FinGPT/fingpt/FinGPT_Forecaster/prompt.py:77\u001b[0m, in \u001b[0;36mget_all_prompts\u001b[0;34m(symbol, data_dir, start_date, end_date, min_past_weeks, max_past_weeks, with_basics)\u001b[0m\n\u001b[1;32m     74\u001b[0m \u001b[39melse\u001b[39;00m:\n\u001b[1;32m     75\u001b[0m     df \u001b[39m=\u001b[39m pd\u001b[39m.\u001b[39mread_csv(\u001b[39mf\u001b[39m\u001b[39m'\u001b[39m\u001b[39m{\u001b[39;00mdata_dir\u001b[39m}\u001b[39;00m\u001b[39m/\u001b[39m\u001b[39m{\u001b[39;00msymbol\u001b[39m}\u001b[39;00m\u001b[39m_\u001b[39m\u001b[39m{\u001b[39;00mstart_date\u001b[39m}\u001b[39;00m\u001b[39m_\u001b[39m\u001b[39m{\u001b[39;00mend_date\u001b[39m}\u001b[39;00m\u001b[39m_nobasics.csv\u001b[39m\u001b[39m'\u001b[39m)\n\u001b[0;32m---> 77\u001b[0m company_prompt \u001b[39m=\u001b[39m get_company_prompt(symbol)\n\u001b[1;32m     79\u001b[0m prev_rows \u001b[39m=\u001b[39m []\n\u001b[1;32m     80\u001b[0m all_prompts \u001b[39m=\u001b[39m []\n",
      "File \u001b[0;32m/data5/aamayuelasfernandez/FinGPT/fingpt/FinGPT_Forecaster/prompt.py:19\u001b[0m, in \u001b[0;36mget_company_prompt\u001b[0;34m(symbol)\u001b[0m\n\u001b[1;32m     14\u001b[0m profile \u001b[39m=\u001b[39m finnhub_client\u001b[39m.\u001b[39mcompany_profile2(symbol\u001b[39m=\u001b[39msymbol)\n\u001b[1;32m     16\u001b[0m company_template \u001b[39m=\u001b[39m \u001b[39m\"\u001b[39m\u001b[39m[Company Introduction]:\u001b[39m\u001b[39m\\n\u001b[39;00m\u001b[39m\\n\u001b[39;00m\u001b[39m{name}\u001b[39;00m\u001b[39m is a leading entity in the \u001b[39m\u001b[39m{finnhubIndustry}\u001b[39;00m\u001b[39m sector. Incorporated and publicly traded since \u001b[39m\u001b[39m{ipo}\u001b[39;00m\u001b[39m, the company has established its reputation as one of the key players in the market. As of today, \u001b[39m\u001b[39m{name}\u001b[39;00m\u001b[39m has a market capitalization of \u001b[39m\u001b[39m{marketCapitalization:.2f}\u001b[39;00m\u001b[39m in \u001b[39m\u001b[39m{currency}\u001b[39;00m\u001b[39m, with \u001b[39m\u001b[39m{shareOutstanding:.2f}\u001b[39;00m\u001b[39m shares outstanding.\u001b[39m\u001b[39m\"\u001b[39m \\\n\u001b[1;32m     17\u001b[0m     \u001b[39m\"\u001b[39m\u001b[39m\\n\u001b[39;00m\u001b[39m\\n\u001b[39;00m\u001b[39m{name}\u001b[39;00m\u001b[39m operates primarily in the \u001b[39m\u001b[39m{country}\u001b[39;00m\u001b[39m, trading under the ticker \u001b[39m\u001b[39m{ticker}\u001b[39;00m\u001b[39m on the \u001b[39m\u001b[39m{exchange}\u001b[39;00m\u001b[39m. As a dominant force in the \u001b[39m\u001b[39m{finnhubIndustry}\u001b[39;00m\u001b[39m space, the company continues to innovate and drive progress within the industry.\u001b[39m\u001b[39m\"\u001b[39m\n\u001b[0;32m---> 19\u001b[0m formatted_str \u001b[39m=\u001b[39m company_template\u001b[39m.\u001b[39;49mformat(\u001b[39m*\u001b[39;49m\u001b[39m*\u001b[39;49mprofile)\n\u001b[1;32m     21\u001b[0m \u001b[39mreturn\u001b[39;00m formatted_str\n",
      "\u001b[0;31mKeyError\u001b[0m: 'name'"
     ]
    }
   ],
   "source": [
    "# prompts = get_all_prompts(\"AAPL\", 1, 3)\n",
    "# prompts = get_all_prompts(\"MSFT\", 1, 3, False)\n",
    "prompts = get_all_prompts(\"BTC-USD\", data_dir, start_date, end_date, min_past_weeks, max_past_weeks, with_basics)\n",
    "\n",
    "print(prompts[0])"
   ]
  },
  {
   "cell_type": "code",
   "execution_count": 17,
   "id": "4081a024",
   "metadata": {},
   "outputs": [
    {
     "ename": "KeyError",
     "evalue": "'name'",
     "output_type": "error",
     "traceback": [
      "\u001b[0;31m---------------------------------------------------------------------------\u001b[0m",
      "\u001b[0;31mKeyError\u001b[0m                                  Traceback (most recent call last)",
      "Cell \u001b[0;32mIn[17], line 2\u001b[0m\n\u001b[1;32m      1\u001b[0m \u001b[39mfrom\u001b[39;00m \u001b[39mprompt_crypto\u001b[39;00m \u001b[39mimport\u001b[39;00m get_all_prompts\n\u001b[0;32m----> 2\u001b[0m prompts \u001b[39m=\u001b[39m get_all_prompts(\u001b[39m\"\u001b[39;49m\u001b[39mBTC-USD\u001b[39;49m\u001b[39m\"\u001b[39;49m, data_dir, start_date, end_date, min_past_weeks, max_past_weeks, with_basics)\n\u001b[1;32m      3\u001b[0m \u001b[39mprint\u001b[39m(prompts[\u001b[39m0\u001b[39m])\n",
      "File \u001b[0;32m/data5/aamayuelasfernandez/FinGPT/fingpt/FinGPT_Forecaster/prompt_crypto.py:77\u001b[0m, in \u001b[0;36mget_all_prompts\u001b[0;34m(symbol, data_dir, start_date, end_date, min_past_weeks, max_past_weeks, with_basics)\u001b[0m\n\u001b[1;32m     74\u001b[0m \u001b[39melse\u001b[39;00m:\n\u001b[1;32m     75\u001b[0m     df \u001b[39m=\u001b[39m pd\u001b[39m.\u001b[39mread_csv(\u001b[39mf\u001b[39m\u001b[39m'\u001b[39m\u001b[39m{\u001b[39;00mdata_dir\u001b[39m}\u001b[39;00m\u001b[39m/\u001b[39m\u001b[39m{\u001b[39;00msymbol\u001b[39m}\u001b[39;00m\u001b[39m_\u001b[39m\u001b[39m{\u001b[39;00mstart_date\u001b[39m}\u001b[39;00m\u001b[39m_\u001b[39m\u001b[39m{\u001b[39;00mend_date\u001b[39m}\u001b[39;00m\u001b[39m_nobasics.csv\u001b[39m\u001b[39m'\u001b[39m)\n\u001b[0;32m---> 77\u001b[0m company_prompt \u001b[39m=\u001b[39m get_company_prompt(symbol)\n\u001b[1;32m     79\u001b[0m prev_rows \u001b[39m=\u001b[39m []\n\u001b[1;32m     80\u001b[0m all_prompts \u001b[39m=\u001b[39m []\n",
      "File \u001b[0;32m/data5/aamayuelasfernandez/FinGPT/fingpt/FinGPT_Forecaster/prompt_crypto.py:19\u001b[0m, in \u001b[0;36mget_company_prompt\u001b[0;34m(symbol)\u001b[0m\n\u001b[1;32m     14\u001b[0m profile \u001b[39m=\u001b[39m finnhub_client\u001b[39m.\u001b[39mcompany_profile2(symbol\u001b[39m=\u001b[39msymbol)\n\u001b[1;32m     16\u001b[0m company_template \u001b[39m=\u001b[39m \u001b[39m\"\u001b[39m\u001b[39m[Company Introduction]:\u001b[39m\u001b[39m\\n\u001b[39;00m\u001b[39m\\n\u001b[39;00m\u001b[39m{name}\u001b[39;00m\u001b[39m is a leading entity in the \u001b[39m\u001b[39m{finnhubIndustry}\u001b[39;00m\u001b[39m sector. Incorporated and publicly traded since \u001b[39m\u001b[39m{ipo}\u001b[39;00m\u001b[39m, the company has established its reputation as one of the key players in the market. As of today, \u001b[39m\u001b[39m{name}\u001b[39;00m\u001b[39m has a market capitalization of \u001b[39m\u001b[39m{marketCapitalization:.2f}\u001b[39;00m\u001b[39m in \u001b[39m\u001b[39m{currency}\u001b[39;00m\u001b[39m, with \u001b[39m\u001b[39m{shareOutstanding:.2f}\u001b[39;00m\u001b[39m shares outstanding.\u001b[39m\u001b[39m\"\u001b[39m \\\n\u001b[1;32m     17\u001b[0m     \u001b[39m\"\u001b[39m\u001b[39m\\n\u001b[39;00m\u001b[39m\\n\u001b[39;00m\u001b[39m{name}\u001b[39;00m\u001b[39m operates primarily in the \u001b[39m\u001b[39m{country}\u001b[39;00m\u001b[39m, trading under the ticker \u001b[39m\u001b[39m{ticker}\u001b[39;00m\u001b[39m on the \u001b[39m\u001b[39m{exchange}\u001b[39;00m\u001b[39m. As a dominant force in the \u001b[39m\u001b[39m{finnhubIndustry}\u001b[39;00m\u001b[39m space, the company continues to innovate and drive progress within the industry.\u001b[39m\u001b[39m\"\u001b[39m\n\u001b[0;32m---> 19\u001b[0m formatted_str \u001b[39m=\u001b[39m company_template\u001b[39m.\u001b[39;49mformat(\u001b[39m*\u001b[39;49m\u001b[39m*\u001b[39;49mprofile)\n\u001b[1;32m     21\u001b[0m \u001b[39mreturn\u001b[39;00m formatted_str\n",
      "\u001b[0;31mKeyError\u001b[0m: 'name'"
     ]
    }
   ],
   "source": [
    "from prompt_crypto import get_all_prompts\n",
    "prompts = get_all_prompts(\"BTC-USD\", data_dir, start_date, end_date, min_past_weeks, max_past_weeks, with_basics)\n",
    "print(prompts[0])"
   ]
  },
  {
   "cell_type": "markdown",
   "id": "2b010a45",
   "metadata": {},
   "source": [
    "# Request to GPT-4 for Financial Analysis"
   ]
  },
  {
   "cell_type": "code",
   "execution_count": 12,
   "id": "a9ff6ff3",
   "metadata": {
    "scrolled": true
   },
   "outputs": [
    {
     "name": "stdout",
     "output_type": "stream",
     "text": [
      "WBA - 0\n",
      "WBA - 1\n",
      "WBA - 2\n",
      "WBA - 3\n",
      "WBA - 4\n",
      "WBA - 5\n",
      "WBA - 6\n",
      "WBA - 7\n",
      "WBA - 8\n",
      "WBA - 9\n",
      "WBA - 10\n",
      "WBA - 11\n",
      "WBA - 12\n",
      "WBA - 13\n",
      "WBA - 14\n",
      "WBA - 15\n",
      "WBA - 16\n",
      "WBA - 17\n",
      "WBA - 18\n",
      "WBA - 19\n",
      "WMT - 0\n",
      "WMT - 1\n",
      "WMT - 2\n",
      "WMT - 3\n",
      "WMT - 4\n",
      "WMT - 5\n",
      "WMT - 6\n",
      "WMT - 7\n",
      "WMT - 8\n",
      "WMT - 9\n",
      "WMT - 10\n",
      "WMT - 11\n",
      "WMT - 12\n",
      "WMT - 13\n",
      "WMT - 14\n",
      "WMT - 15\n",
      "WMT - 16\n",
      "WMT - 17\n",
      "WMT - 18\n",
      "WMT - 19\n",
      "DIS - 0\n",
      "DIS - 1\n",
      "DIS - 2\n",
      "DIS - 3\n",
      "DIS - 4\n",
      "DIS - 5\n",
      "DIS - 6\n",
      "DIS - 7\n"
     ]
    }
   ],
   "source": [
    "# query_gpt4(DOW_30, 1, 3)\n",
    "query_gpt4(index, data_dir, start_date, end_date, min_past_weeks, max_past_weeks)\n",
    "# query_gpt4(['WBA'], 1, 4)"
   ]
  },
  {
   "cell_type": "markdown",
   "id": "238ba9f0",
   "metadata": {},
   "source": [
    "# Transform into Llama2 Training Format"
   ]
  },
  {
   "cell_type": "code",
   "execution_count": 34,
   "id": "e089b1bf",
   "metadata": {
    "scrolled": true
   },
   "outputs": [],
   "source": [
    "# v1\n",
    "# dow30_dataset = create_dataset(DOW30, True)\n",
    "# v2\n",
    "# dow30_nobasic_dataset = create_dataset(DOW_30, 0.8, False)\n",
    "# v3\n",
    "dow30_v3_dataset = create_dataset(DOW_30, 0.9)"
   ]
  },
  {
   "cell_type": "code",
   "execution_count": 35,
   "id": "123f2db9",
   "metadata": {},
   "outputs": [
    {
     "name": "stderr",
     "output_type": "stream",
     "text": [
      "Saving the dataset (0/1 shards):   0%|          | 0/524 [00:00<?, ? examples/s]"
     ]
    },
    {
     "name": "stderr",
     "output_type": "stream",
     "text": [
      "Saving the dataset (1/1 shards): 100%|██████████| 524/524 [00:00<00:00, 44364.46 examples/s]\n",
      "Saving the dataset (1/1 shards): 100%|██████████| 58/58 [00:00<00:00, 11222.48 examples/s]\n"
     ]
    }
   ],
   "source": [
    "# dow30_dataset.save_to_disk('fingpt-forecaster-dow30-20230601-20230930-llama')\n",
    "# dow30_nobasics_dataset.save_to_disk('fingpt-forecaster-dow30nobasics-20230601-20230930-llama')\n",
    "dow30_v3_dataset.save_to_disk(\n",
    "    f\"fingpt-forecaster-{index_name.lower()}-{start_date.replace('-', '')}-{end_date.replace('-', '')}-{min_past_weeks}-{max_past_weeks}-{str(train_ratio).replace('.', '')}\"\n",
    ")"
   ]
  },
  {
   "cell_type": "code",
   "execution_count": 36,
   "id": "9ed5cf5f",
   "metadata": {},
   "outputs": [
    {
     "data": {
      "text/plain": [
       "DatasetDict({\n",
       "    train: Dataset({\n",
       "        features: ['prompt', 'answer', 'period', 'label', 'symbol'],\n",
       "        num_rows: 524\n",
       "    })\n",
       "    test: Dataset({\n",
       "        features: ['prompt', 'answer', 'period', 'label', 'symbol'],\n",
       "        num_rows: 58\n",
       "    })\n",
       "})"
      ]
     },
     "execution_count": 36,
     "metadata": {},
     "output_type": "execute_result"
    }
   ],
   "source": [
    "dow30_v3_dataset"
   ]
  },
  {
   "cell_type": "markdown",
   "id": "d62e711f",
   "metadata": {},
   "source": [
    "# Test-time Information Fetching"
   ]
  },
  {
   "cell_type": "code",
   "execution_count": 23,
   "id": "8f48aab1",
   "metadata": {
    "scrolled": false
   },
   "outputs": [
    {
     "name": "stderr",
     "output_type": "stream",
     "text": [
      "[*********************100%%**********************]  1 of 1 completed\n",
      "/data5/aamayuelasfernandez/FinGPT/fingpt/FinGPT_Forecaster/data_infererence_fetch.py:38: FutureWarning: Series.__getitem__ treating keys as positions is deprecated. In a future version, integer keys will always be treated as labels (consistent with DataFrame behavior). To access a value by position, use `ser.iloc[pos]`\n",
      "  prices.append(stock_data['Close'][i])\n",
      "/data5/aamayuelasfernandez/FinGPT/fingpt/FinGPT_Forecaster/data_infererence_fetch.py:43: FutureWarning: Series.__getitem__ treating keys as positions is deprecated. In a future version, integer keys will always be treated as labels (consistent with DataFrame behavior). To access a value by position, use `ser.iloc[pos]`\n",
      "  prices.append(stock_data['Close'][-1])\n"
     ]
    }
   ],
   "source": [
    "ticker = \"AAPL\"\n",
    "n_weeks = 3\n",
    "curday = get_curday()\n",
    "data = fetch_all_data(ticker, curday, n_weeks)\n",
    "data['Basics'] = [json.dumps({})] * len(data)\n",
    "# data = get_basics(ticker, data, always=True)\n"
   ]
  },
  {
   "cell_type": "code",
   "execution_count": 24,
   "id": "7d0bba7d",
   "metadata": {},
   "outputs": [
    {
     "data": {
      "text/html": [
       "<div>\n",
       "<style scoped>\n",
       "    .dataframe tbody tr th:only-of-type {\n",
       "        vertical-align: middle;\n",
       "    }\n",
       "\n",
       "    .dataframe tbody tr th {\n",
       "        vertical-align: top;\n",
       "    }\n",
       "\n",
       "    .dataframe thead th {\n",
       "        text-align: right;\n",
       "    }\n",
       "</style>\n",
       "<table border=\"1\" class=\"dataframe\">\n",
       "  <thead>\n",
       "    <tr style=\"text-align: right;\">\n",
       "      <th></th>\n",
       "      <th>Start Date</th>\n",
       "      <th>End Date</th>\n",
       "      <th>Start Price</th>\n",
       "      <th>End Price</th>\n",
       "      <th>News</th>\n",
       "      <th>Basics</th>\n",
       "    </tr>\n",
       "  </thead>\n",
       "  <tbody>\n",
       "    <tr>\n",
       "      <th>0</th>\n",
       "      <td>2023-12-21</td>\n",
       "      <td>2023-12-28</td>\n",
       "      <td>194.679993</td>\n",
       "      <td>193.580002</td>\n",
       "      <td>[{\"date\": \"20231225193300\", \"headline\": \"What ...</td>\n",
       "      <td>{}</td>\n",
       "    </tr>\n",
       "    <tr>\n",
       "      <th>1</th>\n",
       "      <td>2023-12-28</td>\n",
       "      <td>2024-01-04</td>\n",
       "      <td>193.580002</td>\n",
       "      <td>181.910004</td>\n",
       "      <td>[{\"date\": \"20240102022608\", \"headline\": \"Wall ...</td>\n",
       "      <td>{}</td>\n",
       "    </tr>\n",
       "    <tr>\n",
       "      <th>2</th>\n",
       "      <td>2024-01-04</td>\n",
       "      <td>2024-01-10</td>\n",
       "      <td>181.910004</td>\n",
       "      <td>186.190002</td>\n",
       "      <td>[{\"date\": \"20240105093748\", \"headline\": \"Micro...</td>\n",
       "      <td>{}</td>\n",
       "    </tr>\n",
       "  </tbody>\n",
       "</table>\n",
       "</div>"
      ],
      "text/plain": [
       "  Start Date   End Date  Start Price   End Price  \\\n",
       "0 2023-12-21 2023-12-28   194.679993  193.580002   \n",
       "1 2023-12-28 2024-01-04   193.580002  181.910004   \n",
       "2 2024-01-04 2024-01-10   181.910004  186.190002   \n",
       "\n",
       "                                                News Basics  \n",
       "0  [{\"date\": \"20231225193300\", \"headline\": \"What ...     {}  \n",
       "1  [{\"date\": \"20240102022608\", \"headline\": \"Wall ...     {}  \n",
       "2  [{\"date\": \"20240105093748\", \"headline\": \"Micro...     {}  "
      ]
     },
     "execution_count": 24,
     "metadata": {},
     "output_type": "execute_result"
    }
   ],
   "source": [
    "data"
   ]
  },
  {
   "cell_type": "code",
   "execution_count": 25,
   "id": "ba8afadd",
   "metadata": {},
   "outputs": [
    {
     "name": "stdout",
     "output_type": "stream",
     "text": [
      "[Company Introduction]:\n",
      "\n",
      "Apple Inc is a leading entity in the Technology sector. Incorporated and publicly traded since 1980-12-12, the company has established its reputation as one of the key players in the market. As of today, Apple Inc has a market capitalization of 2886435.27 in USD, with 15552.75 shares outstanding.\n",
      "\n",
      "Apple Inc operates primarily in the US, trading under the ticker AAPL on the NASDAQ NMS - GLOBAL MARKET. As a dominant force in the Technology space, the company continues to innovate and drive progress within the industry.\n",
      "\n",
      "From 2023-12-21 to 2023-12-28, AAPL's stock price decreased from 194.68 to 193.58. Company news during this period are listed below:\n",
      "\n",
      "[Headline]: 2 models of Apple Watch can go on sale again, for now, after court lifts halt over a patent dispute\n",
      "[Summary]: Two higher end models of the Apple Watch can go on sale again after a federal court temporarily lifted a sales halt ordered by the International Trade Commission over a patent dispute. The ITC,...\n",
      "\n",
      "[Headline]: What's next after pause of US Apple Watch import ban?\n",
      "[Summary]: A U.S. appeals court on Wednesdaytemporarily paused a ruling that had restricted imports ofApple's popular Apple Watches into the United States. Here is a look at what the case means...\n",
      "\n",
      "[Headline]: Dow Jones Futures Fall After Tesla Breaks Out, Apple Watch Scores Big Win\n",
      "[Summary]: The market rally rose slightly Wednesday with Tesla clearing an entry and AAPL rebounding on an Apple Watch victory. Spotify is among leading stocks finding key support.\n",
      "\n",
      "[Headline]: These Stocks Are Moving the Most Today: Microsoft, Apple, SQM, Altice USA, Marathon Digital, and More\n",
      "[Summary]: The price target on shares of Microsoft is raised by analysts at Wedbush, while Apple stock rises after the tech giant wins a temporary reprieve from a U.S. government ban on the sale of some Apple Watch models.\n",
      "\n",
      "[Headline]: Apple Is Being Overtaken by Chinese Smartphone Rivals—in Cars\n",
      "[Summary]: China’s fifth-largest smartphone maker unveiled its first electric vehicle—the SU7 sedan—which Xiaomi says is capable of delivering acceleration speeds faster than Tesla cars and Porsche EVs.  After a decade,  Apple  still hasn’t introduced an Apple car.  Huawei and Xiaomi, whose phones battle the iPhone for supremacy in China, both released new cars this week with advanced digital features.\n",
      "\n",
      "From 2023-12-28 to 2024-01-04, AAPL's stock price decreased from 193.58 to 181.91. Company news during this period are listed below:\n",
      "\n",
      "[Headline]: The Nasdaq Sinks as Apple Downgrade Weighs on Big Tech\n",
      "[Summary]: The Nasdaq Composite was getting hit hard Tuesday as sellers piled up after a strong 2023 for technology stocks. The tech-heavy Nasdaq was down more than 250 points or 1.7% to kick off the year. The decline comes after the index marked nine straight weeks of gain to end 2023, its longest weekly winning streak since March 2019.\n",
      "\n",
      "[Headline]: Apple stock falls 3% as Barclays says iPhone weakness will persist\n",
      "[Summary]: Barclays analyst Tim Long says Apple's iPhone sales will continue to be weak throughout 2024.\n",
      "\n",
      "[Headline]: Dow Jones Futures: Tech Stocks Skid To Start 2024; Celsius, Eli Lilly Flash Buy Signals\n",
      "[Summary]: Big tech winners led Tuesday's skid. Weight loss plays Celsius and Eli Lilly flashed buy signals. Tesla and Microsoft held up.\n",
      "\n",
      "[Headline]: Tesla Deliveries Are in the Books. What Wall Street Is Watching Now.\n",
      "[Summary]: The EV maker delivered a record number of cars in the fourth quarter, but Wall Street analysts have already moved on.\n",
      "\n",
      "[Headline]: Prepare For What May Be An Epic Chance To Buy Big Tech... If Oil Spikes\n",
      "[Summary]: Last year's stock market returns were dominated by the Magnificent 7 big tech stocks, all delivered total returns of more than 50%. Click here to read more.\n",
      "\n",
      "From 2024-01-04 to 2024-01-10, AAPL's stock price increased from 181.91 to 186.19. Company news during this period are listed below:\n",
      "\n",
      "[Headline]: iRobot: Compelling Robotics And AI Play\n",
      "[Summary]: The recent downturn in iRobot's stock presents an opportunity for investors to buy at a cheap price. Find out why IRBT stock is a Buy.\n",
      "\n",
      "[Headline]: Apple’s Vision Pro Headset to Go on Sale at US Stores on Feb. 2\n",
      "[Summary]: (Bloomberg) -- Apple Inc.’s first major new product in nine years arrives on Feb. 2, setting the stage for what the company hopes is a new era after the iPhone. Most Read from BloombergMusk’s Drug Use Concerns Tesla, SpaceX Leaders, WSJ SaysBoeing Slumps After Panel Blowout Leads to Partial 737 GroundingChina Says It Caught Foreign Consultant Spying for UK’s MI6The Apple Vision Pro — a $3,499 mixed-reality headset — goes on sale in the US on that day, according to a statement Monday. It will be\n",
      "\n",
      "[Headline]: Apple to launch Vision Pro headset in US on Feb. 2\n",
      "[Summary]: Following two analyst downgrades on Apple (AAPL) stock last week, bullish sentiments on the iPhone maker is lagging behind that of its Magnificent Seven counterparts. After facing various challenges on the tail-end of 2023 — including a domestic ban on Apple Watch models and waning iPhone demand in China — the tech giant is coming out swinging in 2024. Apple is set to launch its Vision Pro mixed reality headset in the US on February 2 with pre-orders starting January 19. Yahoo Finance Executive Editor Dan Howley breaks down the announcement.  For more expert insight and the latest market action, click here to watch this full episode of Yahoo Finance Live. Editor's note: This article was written by Eyek Ntekim.\n",
      "\n",
      "[Headline]: Apple Returns to List of Top US Employers as Other Tech Firms Lose Appeal\n",
      "[Summary]: (Bloomberg) -- Apple Inc. returned to an annual list of the 100 best places to work after falling off last year, but the ranking wasn’t as rich with technology firms after layoffs roiled the sector.Most Read from BloombergSEC’s X Account Hacked to Falsely Say Bitcoin ETF ApprovedAmazon’s Twitch to Cut 500 Employees, About 35% of StaffBottled Water Contains More Plastic Particles Than Previously ThoughtUS and Allies Met Secretly With Ukraine on Peace PlanThe iPhone maker was No. 39 in the list fr\n",
      "\n",
      "[Headline]: US ITC opposes Apple's motion for stay pending appeal in smartwatches case\n",
      "[Summary]: The U.S. InternationalTrade Commission on Wednesday opposed Apple's motionfor a stay pending appeal in a case involving sales of thecompany's flagship smartwatches, a court filing...\n",
      "\n",
      "Some recent basic financials of AAPL, reported at 2023-09-30, are presented below:\n",
      "\n",
      "[Basic Financials]:\n",
      "\n",
      "assetTurnoverTTM: 1.1219\n",
      "bookValue: 62146\n",
      "cashRatio: 0.20621713876730807\n",
      "currentRatio: 0.988\n",
      "ebitPerShare: 1.7208\n",
      "eps: 1.4648\n",
      "ev: 2782946\n",
      "fcfMargin: 0.2172\n",
      "fcfPerShareTTM: 6.4041\n",
      "grossMargin: 0.4517\n",
      "inventoryTurnoverTTM: 37.9777\n",
      "longtermDebtTotalAsset: 0.2702\n",
      "longtermDebtTotalCapital: 0.55\n",
      "longtermDebtTotalEquity: 1.5332\n",
      "netDebtToTotalCapital: 0.4683\n",
      "netDebtToTotalEquity: 1.3054\n",
      "netMargin: 0.2565\n",
      "operatingMargin: 0.3013\n",
      "payoutRatioTTM: 0.1549\n",
      "pb: 43.4754\n",
      "peTTM: 27.8553\n",
      "pfcfTTM: 27.1311\n",
      "pretaxMargin: 0.3017\n",
      "psTTM: 7.0491\n",
      "quickRatio: 0.9444\n",
      "receivablesTurnoverTTM: 13.2873\n",
      "roaTTM: 0.2839\n",
      "roeTTM: 1.6078\n",
      "roicTTM: 0.5686\n",
      "rotcTTM: 0.67\n",
      "salesPerShare: 5.7107\n",
      "sgaToSale: 0.5483\n",
      "totalDebtToEquity: 1.7875\n",
      "totalDebtToTotalAsset: 0.3151\n",
      "totalDebtToTotalCapital: 0.6413\n",
      "totalRatio: 1.214\n",
      "\n",
      "Based on all the information before 2024-01-11, let's first analyze the positive developments and potential concerns for AAPL. Come up with 2-4 most important factors respectively and keep them concise. Most factors should be inferred from company related news. Then make your prediction of the AAPL stock price movement for next week (2024-01-11 to 2024-01-18). Provide a summary analysis to support your prediction.\n"
     ]
    }
   ],
   "source": [
    "info, prompt = get_all_prompts_online(ticker, data, curday, True)\n",
    "print(prompt)"
   ]
  },
  {
   "cell_type": "code",
   "execution_count": null,
   "id": "5041f216",
   "metadata": {},
   "outputs": [],
   "source": []
  }
 ],
 "metadata": {
  "kernelspec": {
   "display_name": "Python 3 (ipykernel)",
   "language": "python",
   "name": "python3"
  },
  "language_info": {
   "codemirror_mode": {
    "name": "ipython",
    "version": 3
   },
   "file_extension": ".py",
   "mimetype": "text/x-python",
   "name": "python",
   "nbconvert_exporter": "python",
   "pygments_lexer": "ipython3",
   "version": "3.11.7"
  }
 },
 "nbformat": 4,
 "nbformat_minor": 5
}
